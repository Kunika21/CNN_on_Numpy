{
 "cells": [
  {
   "cell_type": "code",
   "execution_count": 183,
   "metadata": {
    "collapsed": true
   },
   "outputs": [],
   "source": [
    "import math\n",
    "import matplotlib.pyplot as plt\n",
    "%matplotlib inline\n",
    "import numpy as np \n",
    "np.random.seed(1)"
   ]
  },
  {
   "cell_type": "code",
   "execution_count": 184,
   "metadata": {
    "collapsed": true
   },
   "outputs": [],
   "source": [
    "def Zero_pad(X, pad):\n",
    "    X_pad = np.pad(x, ((0, 0 ), (0,0),(0,0)), 'constant', constant_values = (0,0) )\n",
    "    return X_pad"
   ]
  },
  {
   "cell_type": "markdown",
   "metadata": {},
   "source": [
    "The input is desired to be 32x32\n",
    "\n",
    "And since the number of filters = 4\n",
    "\n",
    "Therefore No. of channels in input = No. of filters = 4"
   ]
  },
  {
   "cell_type": "code",
   "execution_count": 185,
   "metadata": {
    "collapsed": true
   },
   "outputs": [],
   "source": [
    "np.random.seed(1)\n",
    "x = np.random.randn(4, 32, 32)"
   ]
  },
  {
   "cell_type": "code",
   "execution_count": 186,
   "metadata": {},
   "outputs": [
    {
     "name": "stdout",
     "output_type": "stream",
     "text": [
      "[[[ 1.62434536 -0.61175641 -0.52817175 ...,  0.53035547 -0.69166075\n",
      "   -0.39675353]\n",
      "  [-0.6871727  -0.84520564 -0.67124613 ...,  1.25286816  0.51292982\n",
      "   -0.29809284]\n",
      "  [ 0.48851815 -0.07557171  1.13162939 ..., -0.63873041  0.42349435\n",
      "    0.07734007]\n",
      "  ..., \n",
      "  [ 0.50142959 -0.47861407  1.63169151 ...,  0.39233491  0.44838065\n",
      "    1.1253235 ]\n",
      "  [ 0.10405339  0.52800342 -0.31456386 ..., -0.40724002  0.16056499\n",
      "   -0.12014998]\n",
      "  [ 0.38560229  0.71829074  1.2911889  ..., -0.52137639 -0.23011406\n",
      "   -0.49101443]]\n",
      "\n",
      " [[ 0.67930114  1.42754695  0.03619746 ..., -0.58893118  0.85178964\n",
      "    1.6346025 ]\n",
      "  [ 0.27915545  1.64055365  0.41087294 ..., -0.40178883 -0.19993939\n",
      "    0.00738898]\n",
      "  [ 0.27566408 -1.7632498   1.38797381 ...,  0.32706841 -0.37911961\n",
      "    1.79791937]\n",
      "  ..., \n",
      "  [-0.50966874  0.42377343 -1.1149675  ...,  2.1723328   1.17707022\n",
      "    1.64005737]\n",
      "  [-0.41787062 -0.89687959 -1.07028829 ...,  0.16893767  0.3186247\n",
      "   -0.27337714]\n",
      "  [ 1.47641399 -2.10349278 -0.53283196 ..., -0.08339327  0.01175551\n",
      "    1.20809946]]\n",
      "\n",
      " [[-1.82921963  0.23443672 -0.12071047 ...,  0.21585967 -1.25560054\n",
      "    1.04666138]\n",
      "  [-1.52688637  1.23178219  0.9846295  ..., -1.04499819 -0.33505406\n",
      "    0.38067218]\n",
      "  [-0.23260288  0.80293667  0.15092542 ..., -2.16026941  0.57908722\n",
      "    0.84451844]\n",
      "  ..., \n",
      "  [ 1.34759958  2.01739038 -1.64663478 ..., -0.36773197  0.69172086\n",
      "   -0.79834675]\n",
      "  [ 0.21381773  1.78997593  1.47357393 ..., -1.31758204  0.2898594\n",
      "   -0.3101969 ]\n",
      "  [-0.74447281  1.58354729  0.05972218 ...,  1.20731703  1.37766662\n",
      "    0.63628393]]\n",
      "\n",
      " [[ 0.05529735  0.40581712  1.24845728 ...,  0.59990204 -0.67834807\n",
      "    0.50894507]\n",
      "  [ 0.53826482  0.37453366 -0.74681724 ...,  0.51031498 -0.25361932\n",
      "   -0.45766267]\n",
      "  [-0.3060365   0.46575756 -0.09797565 ..., -0.92699247 -0.31009478\n",
      "    1.50811157]\n",
      "  ..., \n",
      "  [-0.14037099  0.14164167  0.31196861 ..., -0.57596096 -0.9128003\n",
      "    0.00598688]\n",
      "  [-0.30033965 -0.05701189  1.84803225 ...,  0.40439781  0.70342777\n",
      "    0.88882234]\n",
      "  [-0.87086982 -0.48585514  0.30274239 ..., -1.47883394 -0.49290457\n",
      "    0.79494725]]]\n"
     ]
    }
   ],
   "source": [
    "print(x)"
   ]
  },
  {
   "cell_type": "markdown",
   "metadata": {},
   "source": [
    "The activation function required is ReLU\n",
    "\n",
    "Hence defining ReLU"
   ]
  },
  {
   "cell_type": "code",
   "execution_count": 187,
   "metadata": {
    "collapsed": true
   },
   "outputs": [],
   "source": [
    "def relu(y):\n",
    "    return abs(y)*(y>0)"
   ]
  },
  {
   "cell_type": "markdown",
   "metadata": {},
   "source": [
    "Plotting the image"
   ]
  },
  {
   "cell_type": "code",
   "execution_count": 188,
   "metadata": {},
   "outputs": [
    {
     "data": {
      "text/plain": [
       "<matplotlib.image.AxesImage at 0x2b84bbaff60>"
      ]
     },
     "execution_count": 188,
     "metadata": {},
     "output_type": "execute_result"
    },
    {
     "data": {
      "image/png": "[encoded data removed]",
      "text/plain": [
       "<matplotlib.figure.Figure at 0x2b84bb52278>"
      ]
     },
     "metadata": {},
     "output_type": "display_data"
    }
   ],
   "source": [
    "plt.imshow(x[2])"
   ]
  },
  {
   "cell_type": "markdown",
   "metadata": {},
   "source": [
    "# Defining convolution function"
   ]
  },
  {
   "cell_type": "code",
   "execution_count": 189,
   "metadata": {
    "collapsed": true
   },
   "outputs": [],
   "source": [
    "def conv_single_step(a_slice_prev, W):\n",
    "    s = np.multiply(a_slice_prev, W)\n",
    "    Z = np.sum(s)\n",
    "    return Z"
   ]
  },
  {
   "cell_type": "code",
   "execution_count": 190,
   "metadata": {},
   "outputs": [
    {
     "name": "stdout",
     "output_type": "stream",
     "text": [
      "Z = -8.30814939604\n"
     ]
    }
   ],
   "source": [
    "np.random.seed(1)\n",
    "a_slice_prev = np.random.randn(4, 3, 3)\n",
    "W = np.random.randn(4, 3, 3)\n",
    "b = np.random.randn(1, 1, 1)\n",
    "\n",
    "Z = conv_single_step(a_slice_prev, W)\n",
    "print(\"Z =\", Z)"
   ]
  },
  {
   "cell_type": "markdown",
   "metadata": {
    "collapsed": true
   },
   "source": [
    "# defining forward function"
   ]
  },
  {
   "cell_type": "code",
   "execution_count": 191,
   "metadata": {},
   "outputs": [
    {
     "name": "stdout",
     "output_type": "stream",
     "text": [
      "(4, 32, 32)\n",
      "4\n",
      "32\n",
      "32\n",
      "Z's mean = -0.312854710957\n",
      "(4, 15, 15)\n",
      "cache_conv shape = (array([[[ 1.62434536, -0.61175641, -0.52817175, ...,  0.53035547,\n",
      "         -0.69166075, -0.39675353],\n",
      "        [-0.6871727 , -0.84520564, -0.67124613, ...,  1.25286816,\n",
      "          0.51292982, -0.29809284],\n",
      "        [ 0.48851815, -0.07557171,  1.13162939, ..., -0.63873041,\n",
      "          0.42349435,  0.07734007],\n",
      "        ..., \n",
      "        [ 0.50142959, -0.47861407,  1.63169151, ...,  0.39233491,\n",
      "          0.44838065,  1.1253235 ],\n",
      "        [ 0.10405339,  0.52800342, -0.31456386, ..., -0.40724002,\n",
      "          0.16056499, -0.12014998],\n",
      "        [ 0.38560229,  0.71829074,  1.2911889 , ..., -0.52137639,\n",
      "         -0.23011406, -0.49101443]],\n",
      "\n",
      "       [[ 0.67930114,  1.42754695,  0.03619746, ..., -0.58893118,\n",
      "          0.85178964,  1.6346025 ],\n",
      "        [ 0.27915545,  1.64055365,  0.41087294, ..., -0.40178883,\n",
      "         -0.19993939,  0.00738898],\n",
      "        [ 0.27566408, -1.7632498 ,  1.38797381, ...,  0.32706841,\n",
      "         -0.37911961,  1.79791937],\n",
      "        ..., \n",
      "        [-0.50966874,  0.42377343, -1.1149675 , ...,  2.1723328 ,\n",
      "          1.17707022,  1.64005737],\n",
      "        [-0.41787062, -0.89687959, -1.07028829, ...,  0.16893767,\n",
      "          0.3186247 , -0.27337714],\n",
      "        [ 1.47641399, -2.10349278, -0.53283196, ..., -0.08339327,\n",
      "          0.01175551,  1.20809946]],\n",
      "\n",
      "       [[-1.82921963,  0.23443672, -0.12071047, ...,  0.21585967,\n",
      "         -1.25560054,  1.04666138],\n",
      "        [-1.52688637,  1.23178219,  0.9846295 , ..., -1.04499819,\n",
      "         -0.33505406,  0.38067218],\n",
      "        [-0.23260288,  0.80293667,  0.15092542, ..., -2.16026941,\n",
      "          0.57908722,  0.84451844],\n",
      "        ..., \n",
      "        [ 1.34759958,  2.01739038, -1.64663478, ..., -0.36773197,\n",
      "          0.69172086, -0.79834675],\n",
      "        [ 0.21381773,  1.78997593,  1.47357393, ..., -1.31758204,\n",
      "          0.2898594 , -0.3101969 ],\n",
      "        [-0.74447281,  1.58354729,  0.05972218, ...,  1.20731703,\n",
      "          1.37766662,  0.63628393]],\n",
      "\n",
      "       [[ 0.05529735,  0.40581712,  1.24845728, ...,  0.59990204,\n",
      "         -0.67834807,  0.50894507],\n",
      "        [ 0.53826482,  0.37453366, -0.74681724, ...,  0.51031498,\n",
      "         -0.25361932, -0.45766267],\n",
      "        [-0.3060365 ,  0.46575756, -0.09797565, ..., -0.92699247,\n",
      "         -0.31009478,  1.50811157],\n",
      "        ..., \n",
      "        [-0.14037099,  0.14164167,  0.31196861, ..., -0.57596096,\n",
      "         -0.9128003 ,  0.00598688],\n",
      "        [-0.30033965, -0.05701189,  1.84803225, ...,  0.40439781,\n",
      "          0.70342777,  0.88882234],\n",
      "        [-0.87086982, -0.48585514,  0.30274239, ..., -1.47883394,\n",
      "         -0.49290457,  0.79494725]]]), array([[[ 0.23249456,  0.68255141, -0.31011677],\n",
      "        [-2.43483776,  1.0388246 ,  2.18697965],\n",
      "        [ 0.44136444, -0.10015523, -0.13644474]],\n",
      "\n",
      "       [[-0.11905419,  0.01740941, -1.12201873],\n",
      "        [-0.51709446, -0.99702683,  0.24879916],\n",
      "        [-0.29664115,  0.49521132, -0.17470316]],\n",
      "\n",
      "       [[ 0.98633519,  0.2135339 ,  2.19069973],\n",
      "        [-1.89636092, -0.64691669,  0.90148689],\n",
      "        [ 2.52832571, -0.24863478,  0.04366899]],\n",
      "\n",
      "       [[-0.22631424,  1.33145711, -0.28730786],\n",
      "        [ 0.68006984, -0.3198016 , -1.27255876],\n",
      "        [ 0.31354772,  0.50318481,  1.29322588]]]), array([[[[ 0.52946532]]],\n",
      "\n",
      "\n",
      "       [[[ 0.13770121]]],\n",
      "\n",
      "\n",
      "       [[[ 0.07782113]]],\n",
      "\n",
      "\n",
      "       [[[ 0.61838026]]]]), {'pad': 0, 'stride': 2})\n"
     ]
    }
   ],
   "source": [
    "def conv_forward(a_prev, W, b, hparameters):\n",
    "    \n",
    "    a_prev = x\n",
    "    (n_C_prev, n_H_prev, n_W_prev) = a_prev.shape\n",
    "    print(a_prev.shape)\n",
    "    print(n_C_prev)\n",
    "    print(n_H_prev)\n",
    "    print(n_W_prev)\n",
    "\n",
    "    \n",
    "    W = np.random.randn(4,3,3)\n",
    "    \n",
    "    n_C = 4\n",
    "    f = 3\n",
    "    \n",
    "    stride = hparameters[\"stride\"]\n",
    "    pad = hparameters[\"pad\"]\n",
    "\n",
    "    \n",
    "    n_H = np.int(math.floor((n_H_prev+2*pad-f)/stride+1))  \n",
    "    n_W = np.int(math.floor((n_W_prev+2*pad-f)/stride+1))\n",
    "\n",
    "    \n",
    "    Z = np.random.rand(n_C,n_H,n_W)\n",
    "   \n",
    "                           \n",
    "    for h in range(n_H):                           \n",
    "        for w in range(n_W):                    \n",
    "            for c in range(n_C):                                  \n",
    "                   \n",
    "                vert_start = stride*h\n",
    "                vert_end = vert_start+f\n",
    "                horiz_start = stride*w\n",
    "                horiz_end = horiz_start+f\n",
    "\n",
    "                   \n",
    "                a_slice_prev = a_prev[:,vert_start:vert_end,horiz_start:horiz_end]\n",
    "                #print(a_slice_prev.shape)\n",
    "                    \n",
    "                Z[c, h, w] = conv_single_step(a_slice_prev,W) \n",
    "                #print(Z.shape)\n",
    "    \n",
    "\n",
    "    \n",
    "    assert(Z.shape == (n_C,n_H, n_W))\n",
    "\n",
    "    cache = (a_prev, W, b, hparameters)\n",
    "\n",
    "    return Z, cache\n",
    "\n",
    "np.random.seed(1)\n",
    "a_prev = x\n",
    "W = np.random.randn(3,3,4,4)\n",
    "b = np.random.randn(4,1,1,1)\n",
    "hparameters = {\"pad\" : 0,\n",
    "               \"stride\": 2}\n",
    "\n",
    "Z, cache_conv = conv_forward(a_prev, W, b, hparameters)\n",
    "print(\"Z's mean =\", np.mean(Z))\n",
    "print(Z.shape)\n",
    "#print(\"Z[3,2,1] =\", Z[3,2,1])\n",
    "print(\"cache_conv shape =\", cache_conv)"
   ]
  },
  {
   "cell_type": "markdown",
   "metadata": {},
   "source": [
    "Applying activation ReLU to the output of convolved matrix "
   ]
  },
  {
   "cell_type": "code",
   "execution_count": 192,
   "metadata": {},
   "outputs": [
    {
     "name": "stdout",
     "output_type": "stream",
     "text": [
      "[[[  0.           0.           1.96594511   0.           4.06020803   0.\n",
      "     3.19815939   5.39047332   0.           3.02995085  12.13117112\n",
      "     9.59773635   7.70038112  11.87343841   0.        ]\n",
      "  [  0.           0.3465094    0.           0.           6.76870924   0.\n",
      "     0.           3.81705639   5.54875793   0.04411788   4.17638462   0.\n",
      "     7.10057106   0.           6.49481071]\n",
      "  [  0.           5.85283464   0.           3.45274508   0.           5.2825857\n",
      "     2.98655336   0.           0.           0.           1.81405273\n",
      "     3.67990367   5.5686297    0.           0.        ]\n",
      "  [ 10.59479937   3.07978881   0.          10.77966123   0.           0.\n",
      "     0.           0.           6.46504555   0.           9.58630924\n",
      "    11.48181706   0.           0.          10.98917355]\n",
      "  [  2.76959632   3.33720092   2.88937838   0.           0.           9.78004262\n",
      "     0.           2.18230732   0.           1.66944232   8.64886477   0.\n",
      "     0.33496785   1.43960868   2.26256651]\n",
      "  [  0.           1.89459228   0.           0.           1.38199267\n",
      "     0.93593319   0.           0.           0.45783072   0.           0.\n",
      "     0.           0.          11.27240442   0.        ]\n",
      "  [  0.43836979   0.          12.44010004   0.02200735   0.           0.\n",
      "     5.33709404   4.75906168   0.           0.           5.36283097   0.\n",
      "     0.           2.95886843   0.        ]\n",
      "  [  0.           4.09949678   0.           0.           0.11367184\n",
      "     3.67538157   0.           0.49956295   4.61196732   0.15078752   0.\n",
      "     0.           2.35953011   1.97946383   9.50307667]\n",
      "  [  0.           0.           0.           1.58569409   0.           0.46279631\n",
      "     1.7729712    5.27818205   4.07978427   0.           3.34205175   0.\n",
      "     7.89227804   4.64636219   3.49579901]\n",
      "  [  2.49788428   0.7342587    0.           3.00832167   0.27214619\n",
      "     1.17393743   1.48863684   2.89807922   0.           5.60475335\n",
      "     1.323616     3.56535398   3.49659247   0.           0.88821793]\n",
      "  [  0.73554374   0.           0.           0.97901066   0.           3.23834611\n",
      "     0.           0.           0.           9.54041574   2.09627727   0.\n",
      "     0.           0.           8.52371019]\n",
      "  [  0.           4.64525726   0.          13.87834513   5.01556524\n",
      "     3.81305709   0.           0.           0.           0.           0.\n",
      "     0.           0.           4.97687691   0.        ]\n",
      "  [  0.           0.           5.83289521   2.2637433    0.           0.\n",
      "     9.53724277   0.           0.           0.           0.           0.\n",
      "     3.66234971   0.           1.67717423]\n",
      "  [  2.33556345   0.           0.           0.           1.31292843\n",
      "     0.24161354   0.           0.80671731   0.90325481   0.           1.4497212\n",
      "     4.08500559   3.61893739   0.           3.17212216]\n",
      "  [  0.           2.37254901   3.16855577   2.17140604   0.           0.\n",
      "     1.30490305   3.48172892   0.          12.11133831   1.12116519\n",
      "     3.97185244  10.46697321   0.           0.        ]]\n",
      "\n",
      " [[  0.           0.           1.96594511   0.           4.06020803   0.\n",
      "     3.19815939   5.39047332   0.           3.02995085  12.13117112\n",
      "     9.59773635   7.70038112  11.87343841   0.        ]\n",
      "  [  0.           0.3465094    0.           0.           6.76870924   0.\n",
      "     0.           3.81705639   5.54875793   0.04411788   4.17638462   0.\n",
      "     7.10057106   0.           6.49481071]\n",
      "  [  0.           5.85283464   0.           3.45274508   0.           5.2825857\n",
      "     2.98655336   0.           0.           0.           1.81405273\n",
      "     3.67990367   5.5686297    0.           0.        ]\n",
      "  [ 10.59479937   3.07978881   0.          10.77966123   0.           0.\n",
      "     0.           0.           6.46504555   0.           9.58630924\n",
      "    11.48181706   0.           0.          10.98917355]\n",
      "  [  2.76959632   3.33720092   2.88937838   0.           0.           9.78004262\n",
      "     0.           2.18230732   0.           1.66944232   8.64886477   0.\n",
      "     0.33496785   1.43960868   2.26256651]\n",
      "  [  0.           1.89459228   0.           0.           1.38199267\n",
      "     0.93593319   0.           0.           0.45783072   0.           0.\n",
      "     0.           0.          11.27240442   0.        ]\n",
      "  [  0.43836979   0.          12.44010004   0.02200735   0.           0.\n",
      "     5.33709404   4.75906168   0.           0.           5.36283097   0.\n",
      "     0.           2.95886843   0.        ]\n",
      "  [  0.           4.09949678   0.           0.           0.11367184\n",
      "     3.67538157   0.           0.49956295   4.61196732   0.15078752   0.\n",
      "     0.           2.35953011   1.97946383   9.50307667]\n",
      "  [  0.           0.           0.           1.58569409   0.           0.46279631\n",
      "     1.7729712    5.27818205   4.07978427   0.           3.34205175   0.\n",
      "     7.89227804   4.64636219   3.49579901]\n",
      "  [  2.49788428   0.7342587    0.           3.00832167   0.27214619\n",
      "     1.17393743   1.48863684   2.89807922   0.           5.60475335\n",
      "     1.323616     3.56535398   3.49659247   0.           0.88821793]\n",
      "  [  0.73554374   0.           0.           0.97901066   0.           3.23834611\n",
      "     0.           0.           0.           9.54041574   2.09627727   0.\n",
      "     0.           0.           8.52371019]\n",
      "  [  0.           4.64525726   0.          13.87834513   5.01556524\n",
      "     3.81305709   0.           0.           0.           0.           0.\n",
      "     0.           0.           4.97687691   0.        ]\n",
      "  [  0.           0.           5.83289521   2.2637433    0.           0.\n",
      "     9.53724277   0.           0.           0.           0.           0.\n",
      "     3.66234971   0.           1.67717423]\n",
      "  [  2.33556345   0.           0.           0.           1.31292843\n",
      "     0.24161354   0.           0.80671731   0.90325481   0.           1.4497212\n",
      "     4.08500559   3.61893739   0.           3.17212216]\n",
      "  [  0.           2.37254901   3.16855577   2.17140604   0.           0.\n",
      "     1.30490305   3.48172892   0.          12.11133831   1.12116519\n",
      "     3.97185244  10.46697321   0.           0.        ]]\n",
      "\n",
      " [[  0.           0.           1.96594511   0.           4.06020803   0.\n",
      "     3.19815939   5.39047332   0.           3.02995085  12.13117112\n",
      "     9.59773635   7.70038112  11.87343841   0.        ]\n",
      "  [  0.           0.3465094    0.           0.           6.76870924   0.\n",
      "     0.           3.81705639   5.54875793   0.04411788   4.17638462   0.\n",
      "     7.10057106   0.           6.49481071]\n",
      "  [  0.           5.85283464   0.           3.45274508   0.           5.2825857\n",
      "     2.98655336   0.           0.           0.           1.81405273\n",
      "     3.67990367   5.5686297    0.           0.        ]\n",
      "  [ 10.59479937   3.07978881   0.          10.77966123   0.           0.\n",
      "     0.           0.           6.46504555   0.           9.58630924\n",
      "    11.48181706   0.           0.          10.98917355]\n",
      "  [  2.76959632   3.33720092   2.88937838   0.           0.           9.78004262\n",
      "     0.           2.18230732   0.           1.66944232   8.64886477   0.\n",
      "     0.33496785   1.43960868   2.26256651]\n",
      "  [  0.           1.89459228   0.           0.           1.38199267\n",
      "     0.93593319   0.           0.           0.45783072   0.           0.\n",
      "     0.           0.          11.27240442   0.        ]\n",
      "  [  0.43836979   0.          12.44010004   0.02200735   0.           0.\n",
      "     5.33709404   4.75906168   0.           0.           5.36283097   0.\n",
      "     0.           2.95886843   0.        ]\n",
      "  [  0.           4.09949678   0.           0.           0.11367184\n",
      "     3.67538157   0.           0.49956295   4.61196732   0.15078752   0.\n",
      "     0.           2.35953011   1.97946383   9.50307667]\n",
      "  [  0.           0.           0.           1.58569409   0.           0.46279631\n",
      "     1.7729712    5.27818205   4.07978427   0.           3.34205175   0.\n",
      "     7.89227804   4.64636219   3.49579901]\n",
      "  [  2.49788428   0.7342587    0.           3.00832167   0.27214619\n",
      "     1.17393743   1.48863684   2.89807922   0.           5.60475335\n",
      "     1.323616     3.56535398   3.49659247   0.           0.88821793]\n",
      "  [  0.73554374   0.           0.           0.97901066   0.           3.23834611\n",
      "     0.           0.           0.           9.54041574   2.09627727   0.\n",
      "     0.           0.           8.52371019]\n",
      "  [  0.           4.64525726   0.          13.87834513   5.01556524\n",
      "     3.81305709   0.           0.           0.           0.           0.\n",
      "     0.           0.           4.97687691   0.        ]\n",
      "  [  0.           0.           5.83289521   2.2637433    0.           0.\n",
      "     9.53724277   0.           0.           0.           0.           0.\n",
      "     3.66234971   0.           1.67717423]\n",
      "  [  2.33556345   0.           0.           0.           1.31292843\n",
      "     0.24161354   0.           0.80671731   0.90325481   0.           1.4497212\n",
      "     4.08500559   3.61893739   0.           3.17212216]\n",
      "  [  0.           2.37254901   3.16855577   2.17140604   0.           0.\n",
      "     1.30490305   3.48172892   0.          12.11133831   1.12116519\n",
      "     3.97185244  10.46697321   0.           0.        ]]\n",
      "\n",
      " [[  0.           0.           1.96594511   0.           4.06020803   0.\n",
      "     3.19815939   5.39047332   0.           3.02995085  12.13117112\n",
      "     9.59773635   7.70038112  11.87343841   0.        ]\n",
      "  [  0.           0.3465094    0.           0.           6.76870924   0.\n",
      "     0.           3.81705639   5.54875793   0.04411788   4.17638462   0.\n",
      "     7.10057106   0.           6.49481071]\n",
      "  [  0.           5.85283464   0.           3.45274508   0.           5.2825857\n",
      "     2.98655336   0.           0.           0.           1.81405273\n",
      "     3.67990367   5.5686297    0.           0.        ]\n",
      "  [ 10.59479937   3.07978881   0.          10.77966123   0.           0.\n",
      "     0.           0.           6.46504555   0.           9.58630924\n",
      "    11.48181706   0.           0.          10.98917355]\n",
      "  [  2.76959632   3.33720092   2.88937838   0.           0.           9.78004262\n",
      "     0.           2.18230732   0.           1.66944232   8.64886477   0.\n",
      "     0.33496785   1.43960868   2.26256651]\n",
      "  [  0.           1.89459228   0.           0.           1.38199267\n",
      "     0.93593319   0.           0.           0.45783072   0.           0.\n",
      "     0.           0.          11.27240442   0.        ]\n",
      "  [  0.43836979   0.          12.44010004   0.02200735   0.           0.\n",
      "     5.33709404   4.75906168   0.           0.           5.36283097   0.\n",
      "     0.           2.95886843   0.        ]\n",
      "  [  0.           4.09949678   0.           0.           0.11367184\n",
      "     3.67538157   0.           0.49956295   4.61196732   0.15078752   0.\n",
      "     0.           2.35953011   1.97946383   9.50307667]\n",
      "  [  0.           0.           0.           1.58569409   0.           0.46279631\n",
      "     1.7729712    5.27818205   4.07978427   0.           3.34205175   0.\n",
      "     7.89227804   4.64636219   3.49579901]\n",
      "  [  2.49788428   0.7342587    0.           3.00832167   0.27214619\n",
      "     1.17393743   1.48863684   2.89807922   0.           5.60475335\n",
      "     1.323616     3.56535398   3.49659247   0.           0.88821793]\n",
      "  [  0.73554374   0.           0.           0.97901066   0.           3.23834611\n",
      "     0.           0.           0.           9.54041574   2.09627727   0.\n",
      "     0.           0.           8.52371019]\n",
      "  [  0.           4.64525726   0.          13.87834513   5.01556524\n",
      "     3.81305709   0.           0.           0.           0.           0.\n",
      "     0.           0.           4.97687691   0.        ]\n",
      "  [  0.           0.           5.83289521   2.2637433    0.           0.\n",
      "     9.53724277   0.           0.           0.           0.           0.\n",
      "     3.66234971   0.           1.67717423]\n",
      "  [  2.33556345   0.           0.           0.           1.31292843\n",
      "     0.24161354   0.           0.80671731   0.90325481   0.           1.4497212\n",
      "     4.08500559   3.61893739   0.           3.17212216]\n",
      "  [  0.           2.37254901   3.16855577   2.17140604   0.           0.\n",
      "     1.30490305   3.48172892   0.          12.11133831   1.12116519\n",
      "     3.97185244  10.46697321   0.           0.        ]]]\n"
     ]
    }
   ],
   "source": [
    "a = relu(Z)\n",
    "print(a)"
   ]
  },
  {
   "cell_type": "markdown",
   "metadata": {},
   "source": [
    "Reshaping the activated layer in order to fully connect"
   ]
  },
  {
   "cell_type": "code",
   "execution_count": 193,
   "metadata": {
    "collapsed": true
   },
   "outputs": [],
   "source": [
    "q = np.reshape(a, (900,1))"
   ]
  },
  {
   "cell_type": "code",
   "execution_count": 194,
   "metadata": {},
   "outputs": [
    {
     "name": "stdout",
     "output_type": "stream",
     "text": [
      "(900, 10)\n",
      "[[  0.           0.          -0.         ...,   0.          -0.          -0.        ]\n",
      " [  0.           0.          -0.         ...,   0.          -0.          -0.        ]\n",
      " [  2.28302393   2.10349352  -2.05546294 ...,   0.59363687  -0.77593825\n",
      "   -2.30372078]\n",
      " ..., \n",
      " [ 12.15514624  11.19930063 -10.94357896 ...,   3.16060771  -4.13120632\n",
      "  -12.26533925]\n",
      " [  0.           0.          -0.         ...,   0.          -0.          -0.        ]\n",
      " [  0.           0.          -0.         ...,   0.          -0.          -0.        ]]\n"
     ]
    }
   ],
   "source": [
    "W1 = np.random.randn(1, 10)\n",
    "Z2 = np.dot(q, W1)\n",
    "print (Z2.shape)\n",
    "print(Z2)"
   ]
  },
  {
   "cell_type": "markdown",
   "metadata": {},
   "source": [
    "Output in form od 10x1"
   ]
  },
  {
   "cell_type": "code",
   "execution_count": 195,
   "metadata": {},
   "outputs": [
    {
     "name": "stdout",
     "output_type": "stream",
     "text": [
      "(10, 1)\n",
      "[[-11.16045989]\n",
      " [-10.28283354]\n",
      " [ 10.04803822]\n",
      " [ -3.41443842]\n",
      " [ -7.25964549]\n",
      " [ -6.73674264]\n",
      " [  1.9118753 ]\n",
      " [ -2.90196718]\n",
      " [  3.79313926]\n",
      " [ 11.26163552]]\n"
     ]
    }
   ],
   "source": [
    "W2 = np.random.randn(1,900)\n",
    "output = (np.dot(W2, Z2)).T\n",
    "print(output.shape)\n",
    "print(output)"
   ]
  },
  {
   "cell_type": "markdown",
   "metadata": {},
   "source": [
    "# Backward Propagation"
   ]
  },
  {
   "cell_type": "code",
   "execution_count": 196,
   "metadata": {},
   "outputs": [],
   "source": [
    "def conv_backward(dZ, cache):\n",
    "    \n",
    "    (a_prev, W, b, hparameters) = cache\n",
    "\n",
    "    \n",
    "    (n_C_prev,n_H_prev, n_W_prev) = a_prev.shape\n",
    "\n",
    "   \n",
    "    (n_C, f, f) = W.shape\n",
    "\n",
    "    \n",
    "    stride = hparameters[\"stride\"]\n",
    "    pad = hparameters[\"pad\"]\n",
    "\n",
    "    \n",
    "    (n_C, n_H, n_W) = dZ.shape\n",
    "\n",
    "    \n",
    "    dA_prev = np.zeros((n_C_prev, n_H_prev, n_W_prev))                           \n",
    "    dW = np.zeros((n_C, f, f))\n",
    "    db = np.zeros((n_C, 1, 1))\n",
    "\n",
    "    \n",
    "    A_prev_pad =Zero_pad(a_prev, pad)\n",
    "    dA_prev_pad = Zero_pad(dA_prev, pad)\n",
    "\n",
    "    for h in range(n_H):                   \n",
    "        for w in range(n_W):               \n",
    "            for c in range(n_C):           \n",
    "\n",
    "                vert_start = stride * h\n",
    "                vert_end = vert_start + f\n",
    "                horiz_start = stride * w\n",
    "                horiz_end = horiz_start + f\n",
    "\n",
    "                    \n",
    "                a_slice = A_prev_pad[:, vert_start:vert_end, horiz_start:horiz_end]\n",
    "\n",
    "                    \n",
    "                dA_prev_pad[:, vert_start:vert_end, horiz_start:horiz_end] += W[:,:,:] * dZ[c, h, w]\n",
    "                dW[:,:,:] += a_slice * dZ[c, h, w]\n",
    "                db[c, :,:] += dZ[c, h, w]\n",
    "\n",
    "        \n",
    "    dA_prev[:, :, :] = dA_prev_pad[:,: , :]\n",
    "    \n",
    "    assert(dA_prev.shape == (n_C_prev, n_H_prev, n_W_prev))\n",
    "\n",
    "    return dA_prev, dW, db\n"
   ]
  },
  {
   "cell_type": "code",
   "execution_count": 197,
   "metadata": {},
   "outputs": [
    {
     "name": "stdout",
     "output_type": "stream",
     "text": [
      "dA_mean = -0.345192716303\n",
      "dW_mean = 80.071022397\n",
      "db_mean = -70.3923099652\n"
     ]
    }
   ],
   "source": [
    "np.random.seed(1)\n",
    "dA, dW, db = conv_backward(Z, cache_conv)\n",
    "print(\"dA_mean =\", np.mean(dA))\n",
    "print(\"dW_mean =\", np.mean(dW))\n",
    "print(\"db_mean =\", np.mean(db))"
   ]
  },
  {
   "cell_type": "code",
   "execution_count": 198,
   "metadata": {},
   "outputs": [
    {
     "name": "stdout",
     "output_type": "stream",
     "text": [
      "(4, 32, 32)\n",
      "(4, 3, 3)\n",
      "(4, 1, 1)\n"
     ]
    }
   ],
   "source": [
    "print(dA.shape)\n",
    "print(dW.shape)\n",
    "print(db.shape)"
   ]
  },
  {
   "cell_type": "code",
   "execution_count": 200,
   "metadata": {},
   "outputs": [
    {
     "name": "stdout",
     "output_type": "stream",
     "text": [
      "[[[ -1.31499194e-01  -5.76651865e+00  -3.76540076e+00 ...,  -9.75638591e+00\n",
      "     3.98211329e+00  -3.96753527e-01]\n",
      "  [  1.77012001e+01  -8.69061299e+00   4.12423110e+01 ...,  -1.44032713e+01\n",
      "    -3.24470697e+01  -2.98092835e-01]\n",
      "  [ -3.74296060e+00  -1.95611457e+00  -6.90922738e+00 ...,   1.86028792e+01\n",
      "    -5.57674406e+00   7.73400683e-02]\n",
      "  ..., \n",
      "  [  8.26797552e+01  -3.55400328e+01  -9.52882506e+01 ...,  -2.11118441e+01\n",
      "    -4.48231711e+01   1.12532350e+00]\n",
      "  [ -1.47924590e+01   3.90834748e+00   8.47922430e+00 ...,   1.66602245e+00\n",
      "     2.98503814e+00  -1.20149976e-01]\n",
      "  [  3.85602292e-01   7.18290736e-01   1.29118890e+00 ...,  -5.21376385e-01\n",
      "    -2.30114063e-01  -4.91014433e-01]]\n",
      "\n",
      " [[  1.57842175e+00   1.29606768e+00   1.13669079e+01 ...,  -8.51308601e-01\n",
      "     1.77617489e+01   1.63460250e+00]\n",
      "  [  4.18435432e+00   9.17029600e+00   1.09408751e+01 ...,   1.46244158e+01\n",
      "    -3.94959488e+00   7.38898371e-03]\n",
      "  [  2.97590427e+00  -5.57044158e+00   1.39957543e+01 ...,  -6.68398483e+00\n",
      "    -2.68953630e+01   1.79791937e+00]\n",
      "  ..., \n",
      "  [  1.69428110e+01   3.40744735e+01  -1.44195277e+01 ...,   2.28112773e+01\n",
      "    -3.97319450e+00   1.64005737e+00]\n",
      "  [  9.59407907e+00  -1.76107806e+01   2.01094370e+00 ...,  -1.00821797e+01\n",
      "     3.93506582e+00  -2.73377138e-01]\n",
      "  [  1.47641399e+00  -2.10349278e+00  -5.32831961e-01 ...,  -8.33932729e-02\n",
      "     1.17555072e-02   1.20809946e+00]]\n",
      "\n",
      " [[ -9.27821662e+00  -1.37821323e+00  -4.03348988e+01 ...,  -3.00231261e+00\n",
      "    -3.42716654e+01   1.04666138e+00]\n",
      "  [  1.27948036e+01   6.11742403e+00   3.96843740e+01 ...,   8.70469186e+00\n",
      "    -1.39213750e+01   3.80672178e-01]\n",
      "  [ -2.31375729e+01   1.85571917e+00  -6.79487483e+01 ...,   7.13435772e+00\n",
      "     5.68336715e+01   8.44518440e-01]\n",
      "  ..., \n",
      "  [  6.53517676e+01   2.38515064e+01  -5.00695988e+01 ...,   1.30237609e+01\n",
      "    -1.79695001e+01  -7.98346748e-01]\n",
      "  [ -8.51198239e+01   1.01816602e+01   2.39940063e+01 ...,   3.82927986e+00\n",
      "    -6.14110184e-01  -3.10196900e-01]\n",
      "  [ -7.44472805e-01   1.58354729e+00   5.97221754e-02 ...,   1.20731703e+00\n",
      "     1.37766662e+00   6.36283930e-01]]\n",
      "\n",
      " [[  1.76446695e+00  -9.64960841e+00   8.84924220e+00 ...,  -1.94665059e+01\n",
      "     3.65167258e+00   5.08945073e-01]\n",
      "  [ -4.59775613e+00   2.78973812e+00  -7.45619015e+00 ...,   5.33004915e+00\n",
      "     1.89251307e+01  -4.57662668e-01]\n",
      "  [ -1.79967936e+00  -8.47827752e+00  -1.65927470e+01 ...,   2.60797501e+01\n",
      "    -2.72643601e+01   1.50811157e+00]\n",
      "  ..., \n",
      "  [ -2.30934406e+01   1.09352807e+01   4.97161560e+01 ...,   6.04408905e+00\n",
      "     2.54297903e+01   5.98687811e-03]\n",
      "  [ -1.08829037e+01  -1.70400265e+01  -3.88240669e+01 ...,  -1.00117747e+01\n",
      "    -2.60669825e+01   8.88822337e-01]\n",
      "  [ -8.70869818e-01  -4.85855138e-01   3.02742392e-01 ...,  -1.47883394e+00\n",
      "    -4.92904573e-01   7.94947253e-01]]]\n",
      "[[[ -191.91853272   648.25037608   281.16846642]\n",
      "  [-1943.21942194  1124.97993494  1689.02837152]\n",
      "  [  626.01927167  -274.28683502  -125.93486744]]\n",
      "\n",
      " [[  -13.84526827  -529.71382048 -1477.81160716]\n",
      "  [ -510.07539776  -105.99505693   -50.46759392]\n",
      "  [ -576.93584594   468.33191872   260.12908058]]\n",
      "\n",
      " [[ -269.32295044   574.74783074  2028.30515294]\n",
      "  [-1493.21738125 -1014.44880968   594.19642509]\n",
      "  [ 2133.0764322   -342.84047908  -563.0146492 ]]\n",
      "\n",
      " [[ -739.80040655  1012.91834995   643.36041875]\n",
      "  [  634.41864392  -433.85080064 -1152.91597144]\n",
      "  [  566.69322518   404.78203367  1001.76656976]]]\n",
      "[[[-70.39230997]]\n",
      "\n",
      " [[-70.39230997]]\n",
      "\n",
      " [[-70.39230997]]\n",
      "\n",
      " [[-70.39230997]]]\n"
     ]
    }
   ],
   "source": [
    "print(dA)\n",
    "print(dW)\n",
    "print(db)"
   ]
  },
  {
   "cell_type": "code",
   "execution_count": null,
   "metadata": {
    "collapsed": true
   },
   "outputs": [],
   "source": []
  },
  {
   "cell_type": "code",
   "execution_count": null,
   "metadata": {
    "collapsed": true
   },
   "outputs": [],
   "source": []
  }
 ],
 "metadata": {
  "kernelspec": {
   "display_name": "Python 3",
   "language": "python",
   "name": "python3"
  },
  "language_info": {
   "codemirror_mode": {
    "name": "ipython",
    "version": 3
   },
   "file_extension": ".py",
   "mimetype": "text/x-python",
   "name": "python",
   "nbconvert_exporter": "python",
   "pygments_lexer": "ipython3",
   "version": "3.6.4"
  }
 },
 "nbformat": 4,
 "nbformat_minor": 2
}
